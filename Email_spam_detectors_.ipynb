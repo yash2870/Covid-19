{
  "nbformat": 4,
  "nbformat_minor": 0,
  "metadata": {
    "colab": {
      "provenance": [],
      "authorship_tag": "ABX9TyPFbE2Z4OitPiLF1z+ZxCcw",
      "include_colab_link": true
    },
    "kernelspec": {
      "name": "python3",
      "display_name": "Python 3"
    },
    "language_info": {
      "name": "python"
    }
  },
  "cells": [
    {
      "cell_type": "markdown",
      "metadata": {
        "id": "view-in-github",
        "colab_type": "text"
      },
      "source": [
        "<a href=\"https://colab.research.google.com/github/Yashyashyashyash/Covid-19/blob/main/Email_spam_detectors_.ipynb\" target=\"_parent\"><img src=\"https://colab.research.google.com/assets/colab-badge.svg\" alt=\"Open In Colab\"/></a>"
      ]
    },
    {
      "cell_type": "code",
      "execution_count": 1,
      "metadata": {
        "id": "1-QjoGYuofE9"
      },
      "outputs": [],
      "source": [
        "from traitlets.utils.importstring import import_item\n",
        "import numpy as np\n",
        "import pandas as pd\n",
        "from sklearn.model_selection import train_test_split\n",
        "from sklearn.feature_extraction.text import TfidfVectorizer\n",
        "from sklearn.linear_model import LogisticRegression\n",
        "from sklearn.metrics import accuracy_score"
      ]
    },
    {
      "cell_type": "code",
      "source": [
        "df=pd.read_csv('mail_data.csv')"
      ],
      "metadata": {
        "id": "onCfT_rbo7Hb"
      },
      "execution_count": 2,
      "outputs": []
    },
    {
      "cell_type": "code",
      "source": [
        "print(df.head())\n",
        "print(df.shape)"
      ],
      "metadata": {
        "id": "j9LEKx0-sFhs",
        "colab": {
          "base_uri": "https://localhost:8080/"
        },
        "outputId": "e9be0f2b-cc3c-4452-8343-f817cc30ede0"
      },
      "execution_count": 3,
      "outputs": [
        {
          "output_type": "stream",
          "name": "stdout",
          "text": [
            "  Category                                            Message\n",
            "0      ham  Go until jurong point, crazy.. Available only ...\n",
            "1      ham                      Ok lar... Joking wif u oni...\n",
            "2     spam  Free entry in 2 a wkly comp to win FA Cup fina...\n",
            "3      ham  U dun say so early hor... U c already then say...\n",
            "4      ham  Nah I don't think he goes to usf, he lives aro...\n",
            "(5572, 2)\n"
          ]
        }
      ]
    },
    {
      "cell_type": "code",
      "source": [
        "data=df.where((pd.notnull(df)),'')"
      ],
      "metadata": {
        "id": "24cj_R8WsLsl"
      },
      "execution_count": 4,
      "outputs": []
    },
    {
      "cell_type": "code",
      "source": [
        "data.info()"
      ],
      "metadata": {
        "id": "M8AOFPX4svVv",
        "colab": {
          "base_uri": "https://localhost:8080/"
        },
        "outputId": "ade888f4-e951-4b24-f703-6432c4e8add9"
      },
      "execution_count": 5,
      "outputs": [
        {
          "output_type": "stream",
          "name": "stdout",
          "text": [
            "<class 'pandas.core.frame.DataFrame'>\n",
            "RangeIndex: 5572 entries, 0 to 5571\n",
            "Data columns (total 2 columns):\n",
            " #   Column    Non-Null Count  Dtype \n",
            "---  ------    --------------  ----- \n",
            " 0   Category  5572 non-null   object\n",
            " 1   Message   5572 non-null   object\n",
            "dtypes: object(2)\n",
            "memory usage: 87.2+ KB\n"
          ]
        }
      ]
    },
    {
      "cell_type": "code",
      "source": [
        "data.loc[data['Category']=='spam','Category',]=0\n",
        "data.loc[data['Category']=='ham','Category',]=1"
      ],
      "metadata": {
        "id": "eivLwKyVs07j"
      },
      "execution_count": 6,
      "outputs": []
    },
    {
      "cell_type": "code",
      "source": [
        "X=data['Message']\n",
        "y=data['Category']"
      ],
      "metadata": {
        "id": "LdNLZd7xtbTQ"
      },
      "execution_count": 7,
      "outputs": []
    },
    {
      "cell_type": "code",
      "source": [
        "X"
      ],
      "metadata": {
        "id": "n1A4OY6ptxnk",
        "colab": {
          "base_uri": "https://localhost:8080/"
        },
        "outputId": "c63aef4e-5efc-4a55-cbf2-65668101145d"
      },
      "execution_count": 8,
      "outputs": [
        {
          "output_type": "execute_result",
          "data": {
            "text/plain": [
              "0       Go until jurong point, crazy.. Available only ...\n",
              "1                           Ok lar... Joking wif u oni...\n",
              "2       Free entry in 2 a wkly comp to win FA Cup fina...\n",
              "3       U dun say so early hor... U c already then say...\n",
              "4       Nah I don't think he goes to usf, he lives aro...\n",
              "                              ...                        \n",
              "5567    This is the 2nd time we have tried 2 contact u...\n",
              "5568                 Will ü b going to esplanade fr home?\n",
              "5569    Pity, * was in mood for that. So...any other s...\n",
              "5570    The guy did some bitching but I acted like i'd...\n",
              "5571                           Rofl. Its true to its name\n",
              "Name: Message, Length: 5572, dtype: object"
            ]
          },
          "metadata": {},
          "execution_count": 8
        }
      ]
    },
    {
      "cell_type": "code",
      "source": [
        "y"
      ],
      "metadata": {
        "id": "ok8CHb8ztzzP",
        "colab": {
          "base_uri": "https://localhost:8080/"
        },
        "outputId": "84102f8e-e67e-4bac-be45-371f2be65876"
      },
      "execution_count": 9,
      "outputs": [
        {
          "output_type": "execute_result",
          "data": {
            "text/plain": [
              "0       1\n",
              "1       1\n",
              "2       0\n",
              "3       1\n",
              "4       1\n",
              "       ..\n",
              "5567    0\n",
              "5568    1\n",
              "5569    1\n",
              "5570    1\n",
              "5571    1\n",
              "Name: Category, Length: 5572, dtype: object"
            ]
          },
          "metadata": {},
          "execution_count": 9
        }
      ]
    },
    {
      "cell_type": "code",
      "source": [
        "X_train, X_test, y_train, y_test = train_test_split(X, y, test_size=0.3, random_state=3)"
      ],
      "metadata": {
        "id": "NivW073zt0nf"
      },
      "execution_count": 10,
      "outputs": []
    },
    {
      "cell_type": "code",
      "source": [
        " feature_extraction=TfidfVectorizer(min_df=1,stop_words='english',lowercase=True)\n",
        " X_train_feature=feature_extraction.fit_transform(X_train)\n",
        " X_test_feature=feature_extraction.transform(X_test)\n",
        " y_train=y_train.astype('int')\n",
        " y_test=y_test.astype('int')"
      ],
      "metadata": {
        "id": "QWsNQ_ttuHSA"
      },
      "execution_count": 11,
      "outputs": []
    },
    {
      "cell_type": "code",
      "source": [
        "print(X_train)"
      ],
      "metadata": {
        "id": "m9tblxphwCe9",
        "colab": {
          "base_uri": "https://localhost:8080/"
        },
        "outputId": "ada8a7cf-946f-4521-b096-bb21341c45d0"
      },
      "execution_count": 12,
      "outputs": [
        {
          "output_type": "stream",
          "name": "stdout",
          "text": [
            "1455    Can ü all decide faster cos my sis going home ...\n",
            "3460    Not heard from U4 a while. Call me now am here...\n",
            "2493    No drama Pls.i have had enough from you and fa...\n",
            "3378    Yup. Wun believe wat? U really neva c e msg i ...\n",
            "3826    Hi. I'm always online on yahoo and would like ...\n",
            "                              ...                        \n",
            "789     5 Free Top Polyphonic Tones call 087018728737,...\n",
            "968     What do u want when i come back?.a beautiful n...\n",
            "1667    Guess who spent all last night phasing in and ...\n",
            "3321    Eh sorry leh... I din c ur msg. Not sad alread...\n",
            "1688    Free Top ringtone -sub to weekly ringtone-get ...\n",
            "Name: Message, Length: 3900, dtype: object\n"
          ]
        }
      ]
    },
    {
      "cell_type": "code",
      "source": [
        "print(X_train_feature)"
      ],
      "metadata": {
        "id": "z_LWTLmOyL1U",
        "colab": {
          "base_uri": "https://localhost:8080/"
        },
        "outputId": "c2fc1dc5-9237-4cb8-b542-89e9c9d07c38"
      },
      "execution_count": 13,
      "outputs": [
        {
          "output_type": "stream",
          "name": "stdout",
          "text": [
            "  (0, 3651)\t0.3587221851838313\n",
            "  (0, 3086)\t0.2739938546908377\n",
            "  (0, 2825)\t0.27449571589502497\n",
            "  (0, 5509)\t0.40335109063478575\n",
            "  (0, 1799)\t0.3212783541487352\n",
            "  (0, 2489)\t0.5022955611445961\n",
            "  (0, 1965)\t0.45020567466160955\n",
            "  (1, 4242)\t0.25454751074340237\n",
            "  (1, 4277)\t0.33272056276910283\n",
            "  (1, 3821)\t0.2433861866561607\n",
            "  (1, 6813)\t0.2600994552195357\n",
            "  (1, 6)\t0.33272056276910283\n",
            "  (1, 6147)\t0.16521313463046028\n",
            "  (1, 2058)\t0.18864352312402063\n",
            "  (1, 3671)\t0.16295245094503386\n",
            "  (1, 1153)\t0.31698956000242107\n",
            "  (1, 3875)\t0.19423188001633226\n",
            "  (1, 3534)\t0.33272056276910283\n",
            "  (1, 3451)\t0.1449316171395763\n",
            "  (1, 4271)\t0.19008955732757765\n",
            "  (1, 6331)\t0.33272056276910283\n",
            "  (1, 3003)\t0.2841165834640824\n",
            "  (2, 5099)\t0.30299688346739717\n",
            "  (2, 6545)\t0.19459812997829923\n",
            "  (2, 4225)\t0.30299688346739717\n",
            "  :\t:\n",
            "  (3897, 2908)\t0.32603177409174644\n",
            "  (3897, 4271)\t0.2690692327260679\n",
            "  (3898, 2081)\t0.3654387356575668\n",
            "  (3898, 3632)\t0.3140198944936123\n",
            "  (3898, 6590)\t0.3055286729595858\n",
            "  (3898, 3587)\t0.3117604480135819\n",
            "  (3898, 6308)\t0.29825497493831876\n",
            "  (3898, 5231)\t0.34076077325625154\n",
            "  (3898, 4368)\t0.30361036317197826\n",
            "  (3898, 5644)\t0.22951396229460186\n",
            "  (3898, 2289)\t0.3540965327301807\n",
            "  (3898, 6404)\t0.19744558729403666\n",
            "  (3898, 4136)\t0.2510074277476222\n",
            "  (3899, 597)\t0.30259437800239236\n",
            "  (3899, 5846)\t0.30259437800239236\n",
            "  (3899, 133)\t0.29193991379910367\n",
            "  (3899, 5843)\t0.29193991379910367\n",
            "  (3899, 312)\t0.22121895406199849\n",
            "  (3899, 6630)\t0.24828777600850763\n",
            "  (3899, 5158)\t0.4511622274843279\n",
            "  (3899, 6626)\t0.3657819848307903\n",
            "  (3899, 5583)\t0.20666240505742453\n",
            "  (3899, 2653)\t0.31542089721155364\n",
            "  (3899, 5357)\t0.15974030186984906\n",
            "  (3899, 5787)\t0.17541476811943474\n"
          ]
        }
      ]
    },
    {
      "cell_type": "code",
      "source": [
        "model=LogisticRegression()\n"
      ],
      "metadata": {
        "id": "NFxsv9LHyUrC"
      },
      "execution_count": 14,
      "outputs": []
    },
    {
      "cell_type": "code",
      "source": [
        "model.fit(X_train_feature,y_train)"
      ],
      "metadata": {
        "id": "98KDijMGye2J",
        "colab": {
          "base_uri": "https://localhost:8080/",
          "height": 75
        },
        "outputId": "f42d775d-76ab-4c38-faec-84f6ff2020af"
      },
      "execution_count": 15,
      "outputs": [
        {
          "output_type": "execute_result",
          "data": {
            "text/plain": [
              "LogisticRegression()"
            ],
            "text/html": [
              "<style>#sk-container-id-1 {color: black;background-color: white;}#sk-container-id-1 pre{padding: 0;}#sk-container-id-1 div.sk-toggleable {background-color: white;}#sk-container-id-1 label.sk-toggleable__label {cursor: pointer;display: block;width: 100%;margin-bottom: 0;padding: 0.3em;box-sizing: border-box;text-align: center;}#sk-container-id-1 label.sk-toggleable__label-arrow:before {content: \"▸\";float: left;margin-right: 0.25em;color: #696969;}#sk-container-id-1 label.sk-toggleable__label-arrow:hover:before {color: black;}#sk-container-id-1 div.sk-estimator:hover label.sk-toggleable__label-arrow:before {color: black;}#sk-container-id-1 div.sk-toggleable__content {max-height: 0;max-width: 0;overflow: hidden;text-align: left;background-color: #f0f8ff;}#sk-container-id-1 div.sk-toggleable__content pre {margin: 0.2em;color: black;border-radius: 0.25em;background-color: #f0f8ff;}#sk-container-id-1 input.sk-toggleable__control:checked~div.sk-toggleable__content {max-height: 200px;max-width: 100%;overflow: auto;}#sk-container-id-1 input.sk-toggleable__control:checked~label.sk-toggleable__label-arrow:before {content: \"▾\";}#sk-container-id-1 div.sk-estimator input.sk-toggleable__control:checked~label.sk-toggleable__label {background-color: #d4ebff;}#sk-container-id-1 div.sk-label input.sk-toggleable__control:checked~label.sk-toggleable__label {background-color: #d4ebff;}#sk-container-id-1 input.sk-hidden--visually {border: 0;clip: rect(1px 1px 1px 1px);clip: rect(1px, 1px, 1px, 1px);height: 1px;margin: -1px;overflow: hidden;padding: 0;position: absolute;width: 1px;}#sk-container-id-1 div.sk-estimator {font-family: monospace;background-color: #f0f8ff;border: 1px dotted black;border-radius: 0.25em;box-sizing: border-box;margin-bottom: 0.5em;}#sk-container-id-1 div.sk-estimator:hover {background-color: #d4ebff;}#sk-container-id-1 div.sk-parallel-item::after {content: \"\";width: 100%;border-bottom: 1px solid gray;flex-grow: 1;}#sk-container-id-1 div.sk-label:hover label.sk-toggleable__label {background-color: #d4ebff;}#sk-container-id-1 div.sk-serial::before {content: \"\";position: absolute;border-left: 1px solid gray;box-sizing: border-box;top: 0;bottom: 0;left: 50%;z-index: 0;}#sk-container-id-1 div.sk-serial {display: flex;flex-direction: column;align-items: center;background-color: white;padding-right: 0.2em;padding-left: 0.2em;position: relative;}#sk-container-id-1 div.sk-item {position: relative;z-index: 1;}#sk-container-id-1 div.sk-parallel {display: flex;align-items: stretch;justify-content: center;background-color: white;position: relative;}#sk-container-id-1 div.sk-item::before, #sk-container-id-1 div.sk-parallel-item::before {content: \"\";position: absolute;border-left: 1px solid gray;box-sizing: border-box;top: 0;bottom: 0;left: 50%;z-index: -1;}#sk-container-id-1 div.sk-parallel-item {display: flex;flex-direction: column;z-index: 1;position: relative;background-color: white;}#sk-container-id-1 div.sk-parallel-item:first-child::after {align-self: flex-end;width: 50%;}#sk-container-id-1 div.sk-parallel-item:last-child::after {align-self: flex-start;width: 50%;}#sk-container-id-1 div.sk-parallel-item:only-child::after {width: 0;}#sk-container-id-1 div.sk-dashed-wrapped {border: 1px dashed gray;margin: 0 0.4em 0.5em 0.4em;box-sizing: border-box;padding-bottom: 0.4em;background-color: white;}#sk-container-id-1 div.sk-label label {font-family: monospace;font-weight: bold;display: inline-block;line-height: 1.2em;}#sk-container-id-1 div.sk-label-container {text-align: center;}#sk-container-id-1 div.sk-container {/* jupyter's `normalize.less` sets `[hidden] { display: none; }` but bootstrap.min.css set `[hidden] { display: none !important; }` so we also need the `!important` here to be able to override the default hidden behavior on the sphinx rendered scikit-learn.org. See: https://github.com/scikit-learn/scikit-learn/issues/21755 */display: inline-block !important;position: relative;}#sk-container-id-1 div.sk-text-repr-fallback {display: none;}</style><div id=\"sk-container-id-1\" class=\"sk-top-container\"><div class=\"sk-text-repr-fallback\"><pre>LogisticRegression()</pre><b>In a Jupyter environment, please rerun this cell to show the HTML representation or trust the notebook. <br />On GitHub, the HTML representation is unable to render, please try loading this page with nbviewer.org.</b></div><div class=\"sk-container\" hidden><div class=\"sk-item\"><div class=\"sk-estimator sk-toggleable\"><input class=\"sk-toggleable__control sk-hidden--visually\" id=\"sk-estimator-id-1\" type=\"checkbox\" checked><label for=\"sk-estimator-id-1\" class=\"sk-toggleable__label sk-toggleable__label-arrow\">LogisticRegression</label><div class=\"sk-toggleable__content\"><pre>LogisticRegression()</pre></div></div></div></div></div>"
            ]
          },
          "metadata": {},
          "execution_count": 15
        }
      ]
    },
    {
      "cell_type": "code",
      "source": [
        "pred=model.predict(X_train_feature)\n",
        "acc=accuracy_score(y_train,pred)"
      ],
      "metadata": {
        "id": "tvd5gZOkym3g"
      },
      "execution_count": 16,
      "outputs": []
    },
    {
      "cell_type": "code",
      "source": [
        "print(\"Accuracy o training data is:\",acc)"
      ],
      "metadata": {
        "id": "-2-NsdH-y810",
        "colab": {
          "base_uri": "https://localhost:8080/"
        },
        "outputId": "5c4a4897-dc0e-4435-e1b1-d04bfa771136"
      },
      "execution_count": 17,
      "outputs": [
        {
          "output_type": "stream",
          "name": "stdout",
          "text": [
            "Accuracy o training data is: 0.9661538461538461\n"
          ]
        }
      ]
    },
    {
      "cell_type": "code",
      "source": [
        "pred=model.predict(X_test_feature)\n",
        "acc=accuracy_score(y_test,pred)"
      ],
      "metadata": {
        "id": "_h3tDeTBzB5A"
      },
      "execution_count": 18,
      "outputs": []
    },
    {
      "cell_type": "code",
      "source": [
        "print(\"Accuracy o test data is:\",acc)"
      ],
      "metadata": {
        "id": "GOycJEL0ze0B",
        "colab": {
          "base_uri": "https://localhost:8080/"
        },
        "outputId": "2e1bea77-550d-4996-936e-f48621582201"
      },
      "execution_count": 19,
      "outputs": [
        {
          "output_type": "stream",
          "name": "stdout",
          "text": [
            "Accuracy o test data is: 0.9647129186602871\n"
          ]
        }
      ]
    },
    {
      "cell_type": "code",
      "source": [
        "inp_mail=[\"This is the 2nd time we have tried 2 contact u. U have won the Â£750 Pound prize. 2 claim is easy, call 087187272008 NOW1! Only 10p per minute. BT-national-rate.\"]\n",
        "input_data_features=feature_extraction.transform(inp_mail)\n",
        "p=model.predict(input_data_features)\n",
        "print(p)\n",
        "if(p[0]==1):\n",
        "  print(\"Ham mail\")\n",
        "else:\n",
        "  print(\"Spam mail\")"
      ],
      "metadata": {
        "id": "sGhPRUOdznmW",
        "colab": {
          "base_uri": "https://localhost:8080/"
        },
        "outputId": "ab589607-6379-4fad-8958-97d31166b508"
      },
      "execution_count": 20,
      "outputs": [
        {
          "output_type": "stream",
          "name": "stdout",
          "text": [
            "[0]\n",
            "Spam mail\n"
          ]
        }
      ]
    },
    {
      "cell_type": "code",
      "source": [],
      "metadata": {
        "id": "rX_9nydM0P32"
      },
      "execution_count": 20,
      "outputs": []
    }
  ]
}